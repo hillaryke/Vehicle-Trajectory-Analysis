{
 "cells": [
  {
   "cell_type": "code",
   "outputs": [],
   "source": [
    "from sqlalchemy import create_engine, inspect"
   ],
   "metadata": {
    "collapsed": false,
    "ExecuteTime": {
     "end_time": "2024-04-30T07:11:13.908701Z",
     "start_time": "2024-04-30T07:11:13.905170Z"
    }
   },
   "id": "75a56a228b0ec1eb",
   "execution_count": 29
  },
  {
   "cell_type": "code",
   "execution_count": 30,
   "id": "initial_id",
   "metadata": {
    "collapsed": true,
    "ExecuteTime": {
     "end_time": "2024-04-30T07:11:14.087663Z",
     "start_time": "2024-04-30T07:11:14.084011Z"
    }
   },
   "outputs": [],
   "source": [
    "def create_postgres_engine(user, password, host, port, db):\n",
    "    connection_string = f'postgresql://{user}:{password}@{host}:{port}/{db}'\n",
    "    engine = create_engine(connection_string)\n",
    "    return engine"
   ]
  },
  {
   "cell_type": "code",
   "outputs": [],
   "source": [
    "engine = create_postgres_engine('tela', 'tela1234', 'localhost', '5432', 'traffic')"
   ],
   "metadata": {
    "collapsed": false,
    "ExecuteTime": {
     "end_time": "2024-04-30T07:11:14.179845Z",
     "start_time": "2024-04-30T07:11:14.176791Z"
    }
   },
   "id": "2a42efc8b2d87006",
   "execution_count": 31
  },
  {
   "cell_type": "code",
   "outputs": [],
   "source": [
    "def get_table_names(engine):\n",
    "    table_names = inspect(engine).get_table_names()\n",
    "    return table_names"
   ],
   "metadata": {
    "collapsed": false,
    "ExecuteTime": {
     "end_time": "2024-04-30T07:11:14.436618Z",
     "start_time": "2024-04-30T07:11:14.433428Z"
    }
   },
   "id": "b2e9b5eef2cc188a",
   "execution_count": 32
  },
  {
   "cell_type": "code",
   "outputs": [],
   "source": [
    "table_names = get_table_names(engine)"
   ],
   "metadata": {
    "collapsed": false,
    "ExecuteTime": {
     "end_time": "2024-04-30T07:11:14.800147Z",
     "start_time": "2024-04-30T07:11:14.779762Z"
    }
   },
   "id": "f40bb168db01df08",
   "execution_count": 33
  },
  {
   "cell_type": "code",
   "outputs": [
    {
     "name": "stdout",
     "output_type": "stream",
     "text": [
      "['company']\n"
     ]
    }
   ],
   "source": [
    "print(table_names)"
   ],
   "metadata": {
    "collapsed": false,
    "ExecuteTime": {
     "end_time": "2024-04-30T07:11:15.277859Z",
     "start_time": "2024-04-30T07:11:15.271060Z"
    }
   },
   "id": "928b1721903bed64",
   "execution_count": 34
  },
  {
   "cell_type": "code",
   "outputs": [],
   "source": [],
   "metadata": {
    "collapsed": false
   },
   "id": "2cf26693ddd2ad32"
  }
 ],
 "metadata": {
  "kernelspec": {
   "display_name": "Python 3",
   "language": "python",
   "name": "python3"
  },
  "language_info": {
   "codemirror_mode": {
    "name": "ipython",
    "version": 2
   },
   "file_extension": ".py",
   "mimetype": "text/x-python",
   "name": "python",
   "nbconvert_exporter": "python",
   "pygments_lexer": "ipython2",
   "version": "2.7.6"
  }
 },
 "nbformat": 4,
 "nbformat_minor": 5
}
