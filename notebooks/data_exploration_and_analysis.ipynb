{
 "cells": [
  {
   "cell_type": "markdown",
   "source": [
    "# Import the necessary libraries"
   ],
   "metadata": {
    "collapsed": false
   },
   "id": "4bcfedf8f9a7b609"
  },
  {
   "cell_type": "code",
   "outputs": [],
   "source": [
    "import pandas as pd"
   ],
   "metadata": {
    "collapsed": false,
    "ExecuteTime": {
     "end_time": "2024-04-30T08:58:28.475460Z",
     "start_time": "2024-04-30T08:58:27.520634Z"
    }
   },
   "id": "bed311c81f3265e2",
   "execution_count": 1
  },
  {
   "cell_type": "markdown",
   "source": [
    "# Load the data"
   ],
   "metadata": {
    "collapsed": false
   },
   "id": "5eab1977c145372a"
  },
  {
   "cell_type": "code",
   "outputs": [],
   "source": [
    "# load the data\n",
    "df = pd.read_csv('../data/test_data.csv')#%%\n"
   ],
   "metadata": {
    "collapsed": false,
    "ExecuteTime": {
     "end_time": "2024-04-30T08:58:33.757962Z",
     "start_time": "2024-04-30T08:58:33.127280Z"
    }
   },
   "id": "d3209f940324e61a",
   "execution_count": 2
  },
  {
   "cell_type": "code",
   "outputs": [
    {
     "data": {
      "text/plain": "  track_id; type; traveled_d; avg_speed; lat; lon; speed; lon_acc; lat_acc; time\n0  1; Car; 134.88; 24.278704; 37.979513; 23.73602...                            \n1  2; Car; 426.97; 21.958339; 37.980314; 23.73539...                            \n2  3; Car; 206.58; 8.263246; 37.980328; 23.735207...                            \n3  4; Car; 261.45; 30.361735; 37.979044; 23.73639...                            \n4  5; Taxi; 264.12; 16.979263; 37.979026; 23.7363...                            ",
      "text/html": "<div>\n<style scoped>\n    .dataframe tbody tr th:only-of-type {\n        vertical-align: middle;\n    }\n\n    .dataframe tbody tr th {\n        vertical-align: top;\n    }\n\n    .dataframe thead th {\n        text-align: right;\n    }\n</style>\n<table border=\"1\" class=\"dataframe\">\n  <thead>\n    <tr style=\"text-align: right;\">\n      <th></th>\n      <th>track_id; type; traveled_d; avg_speed; lat; lon; speed; lon_acc; lat_acc; time</th>\n    </tr>\n  </thead>\n  <tbody>\n    <tr>\n      <th>0</th>\n      <td>1; Car; 134.88; 24.278704; 37.979513; 23.73602...</td>\n    </tr>\n    <tr>\n      <th>1</th>\n      <td>2; Car; 426.97; 21.958339; 37.980314; 23.73539...</td>\n    </tr>\n    <tr>\n      <th>2</th>\n      <td>3; Car; 206.58; 8.263246; 37.980328; 23.735207...</td>\n    </tr>\n    <tr>\n      <th>3</th>\n      <td>4; Car; 261.45; 30.361735; 37.979044; 23.73639...</td>\n    </tr>\n    <tr>\n      <th>4</th>\n      <td>5; Taxi; 264.12; 16.979263; 37.979026; 23.7363...</td>\n    </tr>\n  </tbody>\n</table>\n</div>"
     },
     "execution_count": 3,
     "metadata": {},
     "output_type": "execute_result"
    }
   ],
   "source": [
    "df.head()"
   ],
   "metadata": {
    "collapsed": false,
    "ExecuteTime": {
     "end_time": "2024-04-30T08:58:34.521763Z",
     "start_time": "2024-04-30T08:58:34.512783Z"
    }
   },
   "id": "40f9e8b30f44e85d",
   "execution_count": 3
  },
  {
   "cell_type": "code",
   "outputs": [],
   "source": [],
   "metadata": {
    "collapsed": false
   },
   "id": "2d94ce89a5408f59"
  }
 ],
 "metadata": {
  "kernelspec": {
   "display_name": "Python 3",
   "language": "python",
   "name": "python3"
  },
  "language_info": {
   "codemirror_mode": {
    "name": "ipython",
    "version": 2
   },
   "file_extension": ".py",
   "mimetype": "text/x-python",
   "name": "python",
   "nbconvert_exporter": "python",
   "pygments_lexer": "ipython2",
   "version": "2.7.6"
  }
 },
 "nbformat": 4,
 "nbformat_minor": 5
}
