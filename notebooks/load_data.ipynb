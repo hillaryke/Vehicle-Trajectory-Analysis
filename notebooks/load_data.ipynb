{
 "cells": [
  {
   "cell_type": "code",
   "execution_count": 2,
   "id": "initial_id",
   "metadata": {
    "collapsed": true,
    "ExecuteTime": {
     "end_time": "2024-04-30T11:00:06.205413Z",
     "start_time": "2024-04-30T11:00:06.202994Z"
    }
   },
   "outputs": [],
   "source": [
    "import pandas as pd"
   ]
  },
  {
   "cell_type": "markdown",
   "source": [
    "## Data: How is the .csv organized?\n",
    "\n",
    "For each .csv file the following apply:\n",
    "* each row represents the data of a single vehicle\n",
    "* the first 10 columns in the 1st row include the columns’ names\n",
    "* the first 4 columns include information about the trajectory like the unique trackID, the type of vehicle, the distance traveled in meters and the average speed of the vehicle in km/h\n",
    "* the last 6 columns are then repeated every 6 columns based on the time frequency. For example, column_5 contains the latitude of the vehicle at time column_10, and column­­­_11 contains the latitude of the vehicle at time column_16.\n",
    "* Speed is in km/h, Longitudinal and Lateral Acceleration in m/sec2 and time in seconds."
   ],
   "metadata": {
    "collapsed": false
   },
   "id": "6f130baeda4c8aa1"
  },
  {
   "cell_type": "code",
   "outputs": [
    {
     "ename": "ParserError",
     "evalue": "Error tokenizing data. C error: Expected 3011 fields in line 3, saw 10511\n",
     "output_type": "error",
     "traceback": [
      "\u001B[0;31m---------------------------------------------------------------------------\u001B[0m",
      "\u001B[0;31mParserError\u001B[0m                               Traceback (most recent call last)",
      "Cell \u001B[0;32mIn[3], line 3\u001B[0m\n\u001B[1;32m      1\u001B[0m \u001B[38;5;66;03m# 1. lets blindly try to read the data into a dataframe\u001B[39;00m\n\u001B[0;32m----> 3\u001B[0m df \u001B[38;5;241m=\u001B[39m pd\u001B[38;5;241m.\u001B[39mread_csv(\u001B[38;5;124m\"\u001B[39m\u001B[38;5;124m../data/test_data.csv\u001B[39m\u001B[38;5;124m\"\u001B[39m, sep\u001B[38;5;241m=\u001B[39m\u001B[38;5;124m\"\u001B[39m\u001B[38;5;124m;\u001B[39m\u001B[38;5;124m\"\u001B[39m)\n",
      "File \u001B[0;32m~/anaconda3/envs/10academyw0/lib/python3.12/site-packages/pandas/io/parsers/readers.py:1026\u001B[0m, in \u001B[0;36mread_csv\u001B[0;34m(filepath_or_buffer, sep, delimiter, header, names, index_col, usecols, dtype, engine, converters, true_values, false_values, skipinitialspace, skiprows, skipfooter, nrows, na_values, keep_default_na, na_filter, verbose, skip_blank_lines, parse_dates, infer_datetime_format, keep_date_col, date_parser, date_format, dayfirst, cache_dates, iterator, chunksize, compression, thousands, decimal, lineterminator, quotechar, quoting, doublequote, escapechar, comment, encoding, encoding_errors, dialect, on_bad_lines, delim_whitespace, low_memory, memory_map, float_precision, storage_options, dtype_backend)\u001B[0m\n\u001B[1;32m   1013\u001B[0m kwds_defaults \u001B[38;5;241m=\u001B[39m _refine_defaults_read(\n\u001B[1;32m   1014\u001B[0m     dialect,\n\u001B[1;32m   1015\u001B[0m     delimiter,\n\u001B[0;32m   (...)\u001B[0m\n\u001B[1;32m   1022\u001B[0m     dtype_backend\u001B[38;5;241m=\u001B[39mdtype_backend,\n\u001B[1;32m   1023\u001B[0m )\n\u001B[1;32m   1024\u001B[0m kwds\u001B[38;5;241m.\u001B[39mupdate(kwds_defaults)\n\u001B[0;32m-> 1026\u001B[0m \u001B[38;5;28;01mreturn\u001B[39;00m _read(filepath_or_buffer, kwds)\n",
      "File \u001B[0;32m~/anaconda3/envs/10academyw0/lib/python3.12/site-packages/pandas/io/parsers/readers.py:626\u001B[0m, in \u001B[0;36m_read\u001B[0;34m(filepath_or_buffer, kwds)\u001B[0m\n\u001B[1;32m    623\u001B[0m     \u001B[38;5;28;01mreturn\u001B[39;00m parser\n\u001B[1;32m    625\u001B[0m \u001B[38;5;28;01mwith\u001B[39;00m parser:\n\u001B[0;32m--> 626\u001B[0m     \u001B[38;5;28;01mreturn\u001B[39;00m parser\u001B[38;5;241m.\u001B[39mread(nrows)\n",
      "File \u001B[0;32m~/anaconda3/envs/10academyw0/lib/python3.12/site-packages/pandas/io/parsers/readers.py:1923\u001B[0m, in \u001B[0;36mTextFileReader.read\u001B[0;34m(self, nrows)\u001B[0m\n\u001B[1;32m   1916\u001B[0m nrows \u001B[38;5;241m=\u001B[39m validate_integer(\u001B[38;5;124m\"\u001B[39m\u001B[38;5;124mnrows\u001B[39m\u001B[38;5;124m\"\u001B[39m, nrows)\n\u001B[1;32m   1917\u001B[0m \u001B[38;5;28;01mtry\u001B[39;00m:\n\u001B[1;32m   1918\u001B[0m     \u001B[38;5;66;03m# error: \"ParserBase\" has no attribute \"read\"\u001B[39;00m\n\u001B[1;32m   1919\u001B[0m     (\n\u001B[1;32m   1920\u001B[0m         index,\n\u001B[1;32m   1921\u001B[0m         columns,\n\u001B[1;32m   1922\u001B[0m         col_dict,\n\u001B[0;32m-> 1923\u001B[0m     ) \u001B[38;5;241m=\u001B[39m \u001B[38;5;28mself\u001B[39m\u001B[38;5;241m.\u001B[39m_engine\u001B[38;5;241m.\u001B[39mread(  \u001B[38;5;66;03m# type: ignore[attr-defined]\u001B[39;00m\n\u001B[1;32m   1924\u001B[0m         nrows\n\u001B[1;32m   1925\u001B[0m     )\n\u001B[1;32m   1926\u001B[0m \u001B[38;5;28;01mexcept\u001B[39;00m \u001B[38;5;167;01mException\u001B[39;00m:\n\u001B[1;32m   1927\u001B[0m     \u001B[38;5;28mself\u001B[39m\u001B[38;5;241m.\u001B[39mclose()\n",
      "File \u001B[0;32m~/anaconda3/envs/10academyw0/lib/python3.12/site-packages/pandas/io/parsers/c_parser_wrapper.py:234\u001B[0m, in \u001B[0;36mCParserWrapper.read\u001B[0;34m(self, nrows)\u001B[0m\n\u001B[1;32m    232\u001B[0m \u001B[38;5;28;01mtry\u001B[39;00m:\n\u001B[1;32m    233\u001B[0m     \u001B[38;5;28;01mif\u001B[39;00m \u001B[38;5;28mself\u001B[39m\u001B[38;5;241m.\u001B[39mlow_memory:\n\u001B[0;32m--> 234\u001B[0m         chunks \u001B[38;5;241m=\u001B[39m \u001B[38;5;28mself\u001B[39m\u001B[38;5;241m.\u001B[39m_reader\u001B[38;5;241m.\u001B[39mread_low_memory(nrows)\n\u001B[1;32m    235\u001B[0m         \u001B[38;5;66;03m# destructive to chunks\u001B[39;00m\n\u001B[1;32m    236\u001B[0m         data \u001B[38;5;241m=\u001B[39m _concatenate_chunks(chunks)\n",
      "File \u001B[0;32mparsers.pyx:838\u001B[0m, in \u001B[0;36mpandas._libs.parsers.TextReader.read_low_memory\u001B[0;34m()\u001B[0m\n",
      "File \u001B[0;32mparsers.pyx:905\u001B[0m, in \u001B[0;36mpandas._libs.parsers.TextReader._read_rows\u001B[0;34m()\u001B[0m\n",
      "File \u001B[0;32mparsers.pyx:874\u001B[0m, in \u001B[0;36mpandas._libs.parsers.TextReader._tokenize_rows\u001B[0;34m()\u001B[0m\n",
      "File \u001B[0;32mparsers.pyx:891\u001B[0m, in \u001B[0;36mpandas._libs.parsers.TextReader._check_tokenize_status\u001B[0;34m()\u001B[0m\n",
      "File \u001B[0;32mparsers.pyx:2061\u001B[0m, in \u001B[0;36mpandas._libs.parsers.raise_parser_error\u001B[0;34m()\u001B[0m\n",
      "\u001B[0;31mParserError\u001B[0m: Error tokenizing data. C error: Expected 3011 fields in line 3, saw 10511\n"
     ]
    }
   ],
   "source": [
    "# 1. lets blindly try to read the data into a dataframe\n",
    "\n",
    "df = pd.read_csv(\"../data/test_data.csv\", sep=\";\")"
   ],
   "metadata": {
    "collapsed": false,
    "ExecuteTime": {
     "end_time": "2024-04-30T11:00:24.684371Z",
     "start_time": "2024-04-30T11:00:23.941541Z"
    }
   },
   "id": "863b017133ca5529",
   "execution_count": 3
  },
  {
   "cell_type": "code",
   "outputs": [],
   "source": [],
   "metadata": {
    "collapsed": false
   },
   "id": "134b18e9883df24d"
  },
  {
   "cell_type": "markdown",
   "source": [
    "The error is caused by the fact that rows do **not** have equal number of columns. "
   ],
   "metadata": {
    "collapsed": false
   },
   "id": "46affa3ac2d9b235"
  },
  {
   "cell_type": "code",
   "outputs": [],
   "source": [
    "with open(\"../data/test_data.csv\", 'r') as file:\n",
    "    lines = file.readlines()"
   ],
   "metadata": {
    "collapsed": false,
    "ExecuteTime": {
     "end_time": "2024-04-30T13:15:25.430458Z",
     "start_time": "2024-04-30T13:15:25.237160Z"
    }
   },
   "id": "5b1eef85fec30c75",
   "execution_count": 4
  },
  {
   "cell_type": "code",
   "outputs": [
    {
     "name": "stdout",
     "output_type": "stream",
     "text": [
      "The number of rows/lines is 853\n"
     ]
    }
   ],
   "source": [
    "print(f\"The number of rows/lines is {len(lines)}\")"
   ],
   "metadata": {
    "collapsed": false,
    "ExecuteTime": {
     "end_time": "2024-04-30T13:15:37.457182Z",
     "start_time": "2024-04-30T13:15:37.454294Z"
    }
   },
   "id": "16b4d9d4e56ac0b5",
   "execution_count": 5
  },
  {
   "cell_type": "code",
   "outputs": [
    {
     "name": "stdout",
     "output_type": "stream",
     "text": [
      "track_id; type; traveled_d; avg_speed; lat; lon; speed; lon_acc; lat_acc; time\n",
      "\n",
      "['track_id', ' type', ' traveled_d', ' avg_speed', ' lat', ' lon', ' speed', ' lon_acc', ' lat_acc', ' time']\n"
     ]
    }
   ],
   "source": [
    "print(lines[0]) # column names\n",
    "print(lines[0].strip('\\n').strip().strip(';').split(';')) # columns names as a list"
   ],
   "metadata": {
    "collapsed": false,
    "ExecuteTime": {
     "end_time": "2024-04-30T13:15:53.334299Z",
     "start_time": "2024-04-30T13:15:53.331784Z"
    }
   },
   "id": "888c8dee344fb8f9",
   "execution_count": 6
  },
  {
   "cell_type": "code",
   "outputs": [
    {
     "data": {
      "text/plain": "853"
     },
     "execution_count": 7,
     "metadata": {},
     "output_type": "execute_result"
    }
   ],
   "source": [
    "lines_as_lists = [line.strip('\\n').strip().strip(';').split(';') for line in lines]\n",
    "len(lines_as_lists)"
   ],
   "metadata": {
    "collapsed": false,
    "ExecuteTime": {
     "end_time": "2024-04-30T13:16:10.104488Z",
     "start_time": "2024-04-30T13:16:09.636323Z"
    }
   },
   "id": "67a0eca958438814",
   "execution_count": 7
  },
  {
   "cell_type": "code",
   "outputs": [
    {
     "name": "stdout",
     "output_type": "stream",
     "text": [
      "the number of fields in row 1 is 3010, row 2 is 10510\n"
     ]
    }
   ],
   "source": [
    "print(f\"the number of fields in row 1 is {len(lines_as_lists[1])}, row 2 is {len(lines_as_lists[2])}\")"
   ],
   "metadata": {
    "collapsed": false,
    "ExecuteTime": {
     "end_time": "2024-04-30T13:16:59.941711Z",
     "start_time": "2024-04-30T13:16:59.938843Z"
    }
   },
   "id": "22b14c52c17c154a",
   "execution_count": 9
  },
  {
   "cell_type": "markdown",
   "source": [
    "The number of fields in each row is = 4 + 6 * n\n",
    "\n",
    "* The first 4 unique values are: track_id; type; traveled_d; avg_speed\n",
    "* The remaining fields are repeated sequences of: \n",
    "  * lat_1; lon_1; speed_1; lon_acc_1; lat_acc_1; time_1\n",
    "  * lat_2; lon_2; speed_2; lon_acc_2; lat_acc_2; time_2\n",
    "  * ...\n",
    "  * lat_n; lon_n; speed_n; lon_acc_n; lat_acc_n; time_n\n",
    "\n",
    "* n depends on the time frequency. It is different for each row.\n"
   ],
   "metadata": {
    "collapsed": false
   },
   "id": "f96b034bdc89bacb"
  },
  {
   "cell_type": "code",
   "outputs": [
    {
     "name": "stdout",
     "output_type": "stream",
     "text": [
      "the maximum number of fields is 98410\n",
      "the largest n = 16401\n"
     ]
    }
   ],
   "source": [
    "no_field_max = 0\n",
    "\n",
    "for row in lines_as_lists:\n",
    "    if len(row) > no_field_max:\n",
    "        no_field_max = len(row)\n",
    "\n",
    "print(f\"the maximum number of fields is {no_field_max}\")\n",
    "largest_n = int((no_field_max-4)/6)\n",
    "print(f\"the largest n = {largest_n}\")"
   ],
   "metadata": {
    "collapsed": false,
    "ExecuteTime": {
     "end_time": "2024-04-30T13:18:04.122575Z",
     "start_time": "2024-04-30T13:18:04.118335Z"
    }
   },
   "id": "65359a29c9666a47",
   "execution_count": 12
  },
  {
   "cell_type": "markdown",
   "source": [
    "We can divide each row into 2 parts:\n",
    "1.  A list of the first 4 values. \n",
    "    - These will correspond to ['track_id', ' type', ' traveled_d', ' avg_speed']\n",
    "2.  A matrix of size 6*n of the remaining values. \n",
    "    - These will correspond to a table with columns [' lat', ' lon', ' speed', ' lon_acc', ' lat_acc', ' time'] and n rows.\n",
    "    - We will append the 'track_id' value to each row to keep track of the vehicle identity."
   ],
   "metadata": {
    "collapsed": false
   },
   "id": "57f1576b4002dbf"
  },
  {
   "cell_type": "code",
   "outputs": [],
   "source": [
    "cols = lines_as_lists.pop(0)"
   ],
   "metadata": {
    "collapsed": false,
    "ExecuteTime": {
     "end_time": "2024-04-30T13:20:11.659660Z",
     "start_time": "2024-04-30T13:20:11.657368Z"
    }
   },
   "id": "a86905b2173c5b5a",
   "execution_count": 13
  },
  {
   "cell_type": "code",
   "outputs": [
    {
     "name": "stdout",
     "output_type": "stream",
     "text": [
      "['track_id', ' type', ' traveled_d', ' avg_speed']\n",
      "['track_id', ' lat', ' lon', ' speed', ' lon_acc', ' lat_acc', ' time']\n"
     ]
    }
   ],
   "source": [
    "track_cols = cols[:4]\n",
    "trajectory_cols = ['track_id'] + cols[4:]\n",
    "\n",
    "print(track_cols)\n",
    "print(trajectory_cols)\n"
   ],
   "metadata": {
    "collapsed": false,
    "ExecuteTime": {
     "end_time": "2024-04-30T13:20:18.447178Z",
     "start_time": "2024-04-30T13:20:18.444585Z"
    }
   },
   "id": "e18cbd1ee00be3d1",
   "execution_count": 14
  },
  {
   "cell_type": "code",
   "outputs": [],
   "source": [
    "track_info = []\n",
    "trajectory_info = []\n",
    "\n",
    "for row in lines_as_lists:\n",
    "    track_id = row[0]\n",
    "\n",
    "    # add the first 4 values to track_info\n",
    "    track_info.append(row[:4]) \n",
    "\n",
    "    remaining_values = row[4:]\n",
    "    # reshape the list into a matrix and add track_id\n",
    "    trajectory_matrix = [ [track_id] + remaining_values[i:i+6] for i in range(0,len(remaining_values),6)]\n",
    "    # add the matrix rows to trajectory_info\n",
    "    trajectory_info = trajectory_info + trajectory_matrix\n"
   ],
   "metadata": {
    "collapsed": false
   },
   "id": "a9576391b385c6ff"
  },
  {
   "cell_type": "code",
   "outputs": [
    {
     "data": {
      "text/plain": "   track_id         type  traveled_d   avg_speed\n0         1          Car      134.88   24.278704\n1         2          Car      426.97   21.958339\n2         3          Car      206.58    8.263246\n3         4          Car      261.45   30.361735\n4         5         Taxi      264.12   16.979263\n5         6          Car      251.90   28.516707\n6         7          Car      245.85   30.731733\n7         8   Motorcycle      240.66   33.322447\n8         9         Taxi      186.73   26.465008\n9        10   Motorcycle      234.34   35.150658\n10       11   Motorcycle      224.15   32.020953\n11       12   Motorcycle      183.18   21.836444\n12       13   Motorcycle       22.23    8.002527\n13       14          Bus      218.42   27.113857\n14       15         Taxi      206.11   12.619238\n15       16          Car      200.55   29.112581\n16       17          Car      187.91   21.272305\n17       18          Car      184.59   24.430496\n18       19          Car      172.62   22.515691\n19       20          Car      172.54   24.846457",
      "text/html": "<div>\n<style scoped>\n    .dataframe tbody tr th:only-of-type {\n        vertical-align: middle;\n    }\n\n    .dataframe tbody tr th {\n        vertical-align: top;\n    }\n\n    .dataframe thead th {\n        text-align: right;\n    }\n</style>\n<table border=\"1\" class=\"dataframe\">\n  <thead>\n    <tr style=\"text-align: right;\">\n      <th></th>\n      <th>track_id</th>\n      <th>type</th>\n      <th>traveled_d</th>\n      <th>avg_speed</th>\n    </tr>\n  </thead>\n  <tbody>\n    <tr>\n      <th>0</th>\n      <td>1</td>\n      <td>Car</td>\n      <td>134.88</td>\n      <td>24.278704</td>\n    </tr>\n    <tr>\n      <th>1</th>\n      <td>2</td>\n      <td>Car</td>\n      <td>426.97</td>\n      <td>21.958339</td>\n    </tr>\n    <tr>\n      <th>2</th>\n      <td>3</td>\n      <td>Car</td>\n      <td>206.58</td>\n      <td>8.263246</td>\n    </tr>\n    <tr>\n      <th>3</th>\n      <td>4</td>\n      <td>Car</td>\n      <td>261.45</td>\n      <td>30.361735</td>\n    </tr>\n    <tr>\n      <th>4</th>\n      <td>5</td>\n      <td>Taxi</td>\n      <td>264.12</td>\n      <td>16.979263</td>\n    </tr>\n    <tr>\n      <th>5</th>\n      <td>6</td>\n      <td>Car</td>\n      <td>251.90</td>\n      <td>28.516707</td>\n    </tr>\n    <tr>\n      <th>6</th>\n      <td>7</td>\n      <td>Car</td>\n      <td>245.85</td>\n      <td>30.731733</td>\n    </tr>\n    <tr>\n      <th>7</th>\n      <td>8</td>\n      <td>Motorcycle</td>\n      <td>240.66</td>\n      <td>33.322447</td>\n    </tr>\n    <tr>\n      <th>8</th>\n      <td>9</td>\n      <td>Taxi</td>\n      <td>186.73</td>\n      <td>26.465008</td>\n    </tr>\n    <tr>\n      <th>9</th>\n      <td>10</td>\n      <td>Motorcycle</td>\n      <td>234.34</td>\n      <td>35.150658</td>\n    </tr>\n    <tr>\n      <th>10</th>\n      <td>11</td>\n      <td>Motorcycle</td>\n      <td>224.15</td>\n      <td>32.020953</td>\n    </tr>\n    <tr>\n      <th>11</th>\n      <td>12</td>\n      <td>Motorcycle</td>\n      <td>183.18</td>\n      <td>21.836444</td>\n    </tr>\n    <tr>\n      <th>12</th>\n      <td>13</td>\n      <td>Motorcycle</td>\n      <td>22.23</td>\n      <td>8.002527</td>\n    </tr>\n    <tr>\n      <th>13</th>\n      <td>14</td>\n      <td>Bus</td>\n      <td>218.42</td>\n      <td>27.113857</td>\n    </tr>\n    <tr>\n      <th>14</th>\n      <td>15</td>\n      <td>Taxi</td>\n      <td>206.11</td>\n      <td>12.619238</td>\n    </tr>\n    <tr>\n      <th>15</th>\n      <td>16</td>\n      <td>Car</td>\n      <td>200.55</td>\n      <td>29.112581</td>\n    </tr>\n    <tr>\n      <th>16</th>\n      <td>17</td>\n      <td>Car</td>\n      <td>187.91</td>\n      <td>21.272305</td>\n    </tr>\n    <tr>\n      <th>17</th>\n      <td>18</td>\n      <td>Car</td>\n      <td>184.59</td>\n      <td>24.430496</td>\n    </tr>\n    <tr>\n      <th>18</th>\n      <td>19</td>\n      <td>Car</td>\n      <td>172.62</td>\n      <td>22.515691</td>\n    </tr>\n    <tr>\n      <th>19</th>\n      <td>20</td>\n      <td>Car</td>\n      <td>172.54</td>\n      <td>24.846457</td>\n    </tr>\n  </tbody>\n</table>\n</div>"
     },
     "execution_count": 17,
     "metadata": {},
     "output_type": "execute_result"
    }
   ],
   "source": [
    "df_track = pd.DataFrame(data= track_info,columns=track_cols)\n",
    "\n",
    "df_track.head(20)"
   ],
   "metadata": {
    "collapsed": false,
    "ExecuteTime": {
     "end_time": "2024-04-30T13:21:28.723185Z",
     "start_time": "2024-04-30T13:21:28.713191Z"
    }
   },
   "id": "d486121b0323b4e6",
   "execution_count": 17
  },
  {
   "cell_type": "code",
   "outputs": [
    {
     "data": {
      "text/plain": "  track_id         lat         lon     speed   lon_acc   lat_acc        time\n0        1   37.979513   23.736025   35.3204   -0.2996   -0.0175   14.000000\n1        1   37.979510   23.736027   35.2990   -0.2788   -0.0188   14.040000\n2        1   37.979508   23.736030   35.2800   -0.2656   -0.0200   14.080000\n3        1   37.979505   23.736032   35.2624   -0.2589   -0.0213   14.120000\n4        1   37.979502   23.736035   35.2460   -0.2460   -0.0225   14.160000",
      "text/html": "<div>\n<style scoped>\n    .dataframe tbody tr th:only-of-type {\n        vertical-align: middle;\n    }\n\n    .dataframe tbody tr th {\n        vertical-align: top;\n    }\n\n    .dataframe thead th {\n        text-align: right;\n    }\n</style>\n<table border=\"1\" class=\"dataframe\">\n  <thead>\n    <tr style=\"text-align: right;\">\n      <th></th>\n      <th>track_id</th>\n      <th>lat</th>\n      <th>lon</th>\n      <th>speed</th>\n      <th>lon_acc</th>\n      <th>lat_acc</th>\n      <th>time</th>\n    </tr>\n  </thead>\n  <tbody>\n    <tr>\n      <th>0</th>\n      <td>1</td>\n      <td>37.979513</td>\n      <td>23.736025</td>\n      <td>35.3204</td>\n      <td>-0.2996</td>\n      <td>-0.0175</td>\n      <td>14.000000</td>\n    </tr>\n    <tr>\n      <th>1</th>\n      <td>1</td>\n      <td>37.979510</td>\n      <td>23.736027</td>\n      <td>35.2990</td>\n      <td>-0.2788</td>\n      <td>-0.0188</td>\n      <td>14.040000</td>\n    </tr>\n    <tr>\n      <th>2</th>\n      <td>1</td>\n      <td>37.979508</td>\n      <td>23.736030</td>\n      <td>35.2800</td>\n      <td>-0.2656</td>\n      <td>-0.0200</td>\n      <td>14.080000</td>\n    </tr>\n    <tr>\n      <th>3</th>\n      <td>1</td>\n      <td>37.979505</td>\n      <td>23.736032</td>\n      <td>35.2624</td>\n      <td>-0.2589</td>\n      <td>-0.0213</td>\n      <td>14.120000</td>\n    </tr>\n    <tr>\n      <th>4</th>\n      <td>1</td>\n      <td>37.979502</td>\n      <td>23.736035</td>\n      <td>35.2460</td>\n      <td>-0.2460</td>\n      <td>-0.0225</td>\n      <td>14.160000</td>\n    </tr>\n  </tbody>\n</table>\n</div>"
     },
     "execution_count": 18,
     "metadata": {},
     "output_type": "execute_result"
    }
   ],
   "source": [
    "df_trajectory = pd.DataFrame(data= trajectory_info,columns=trajectory_cols)\n",
    "\n",
    "df_trajectory.head()"
   ],
   "metadata": {
    "collapsed": false,
    "ExecuteTime": {
     "end_time": "2024-04-30T13:22:00.400523Z",
     "start_time": "2024-04-30T13:21:59.819185Z"
    }
   },
   "id": "227d523615f91915",
   "execution_count": 18
  },
  {
   "cell_type": "code",
   "outputs": [],
   "source": [],
   "metadata": {
    "collapsed": false
   },
   "id": "ef9a194453311d31"
  }
 ],
 "metadata": {
  "kernelspec": {
   "display_name": "Python 3",
   "language": "python",
   "name": "python3"
  },
  "language_info": {
   "codemirror_mode": {
    "name": "ipython",
    "version": 2
   },
   "file_extension": ".py",
   "mimetype": "text/x-python",
   "name": "python",
   "nbconvert_exporter": "python",
   "pygments_lexer": "ipython2",
   "version": "2.7.6"
  }
 },
 "nbformat": 4,
 "nbformat_minor": 5
}
