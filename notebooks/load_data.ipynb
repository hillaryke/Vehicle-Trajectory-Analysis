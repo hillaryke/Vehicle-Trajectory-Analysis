{
 "cells": [
  {
   "cell_type": "code",
   "execution_count": 34,
   "id": "initial_id",
   "metadata": {
    "collapsed": true,
    "ExecuteTime": {
     "end_time": "2024-05-01T03:26:58.073161Z",
     "start_time": "2024-05-01T03:26:58.070966Z"
    }
   },
   "outputs": [],
   "source": [
    "import pandas as pd"
   ]
  },
  {
   "cell_type": "markdown",
   "source": [
    "## Data: How is the .csv organized?\n",
    "\n",
    "For each .csv file the following apply:\n",
    "* each row represents the data of a single vehicle\n",
    "* the first 10 columns in the 1st row include the columns’ names\n",
    "* the first 4 columns include information about the trajectory like the unique trackID, the type of vehicle, the distance traveled in meters and the average speed of the vehicle in km/h\n",
    "* the last 6 columns are then repeated every 6 columns based on the time frequency. For example, column_5 contains the latitude of the vehicle at time column_10, and column­­­_11 contains the latitude of the vehicle at time column_16.\n",
    "* Speed is in km/h, Longitudinal and Lateral Acceleration in m/sec2 and time in seconds."
   ],
   "metadata": {
    "collapsed": false
   },
   "id": "6f130baeda4c8aa1"
  },
  {
   "cell_type": "code",
   "outputs": [],
   "source": [
    "# 1. lets blindly try to read the data into a dataframe\n",
    "\n",
    "# df = pd.read_csv(\"../data/test_data.csv\", sep=\";\")"
   ],
   "metadata": {
    "collapsed": false,
    "ExecuteTime": {
     "end_time": "2024-05-01T03:26:58.391447Z",
     "start_time": "2024-05-01T03:26:58.389134Z"
    }
   },
   "id": "863b017133ca5529",
   "execution_count": 35
  },
  {
   "cell_type": "code",
   "outputs": [],
   "source": [],
   "metadata": {
    "collapsed": false,
    "ExecuteTime": {
     "end_time": "2024-05-01T03:26:58.592130Z",
     "start_time": "2024-05-01T03:26:58.590220Z"
    }
   },
   "id": "134b18e9883df24d",
   "execution_count": 35
  },
  {
   "cell_type": "markdown",
   "source": [
    "The error is caused by the fact that rows do **not** have equal number of columns. "
   ],
   "metadata": {
    "collapsed": false
   },
   "id": "46affa3ac2d9b235"
  },
  {
   "cell_type": "code",
   "outputs": [],
   "source": [
    "with open(\"../data/test_data.csv\", 'r') as file:\n",
    "    lines = file.readlines()"
   ],
   "metadata": {
    "collapsed": false,
    "ExecuteTime": {
     "end_time": "2024-05-01T03:26:59.089816Z",
     "start_time": "2024-05-01T03:26:58.958694Z"
    }
   },
   "id": "5b1eef85fec30c75",
   "execution_count": 36
  },
  {
   "cell_type": "code",
   "outputs": [
    {
     "name": "stdout",
     "output_type": "stream",
     "text": [
      "The number of rows/lines is 853\n"
     ]
    }
   ],
   "source": [
    "print(f\"The number of rows/lines is {len(lines)}\")"
   ],
   "metadata": {
    "collapsed": false,
    "ExecuteTime": {
     "end_time": "2024-05-01T03:26:59.154447Z",
     "start_time": "2024-05-01T03:26:59.151271Z"
    }
   },
   "id": "16b4d9d4e56ac0b5",
   "execution_count": 37
  },
  {
   "cell_type": "code",
   "outputs": [
    {
     "name": "stdout",
     "output_type": "stream",
     "text": [
      "track_id; type; traveled_d; avg_speed; lat; lon; speed; lon_acc; lat_acc; time\n",
      "\n",
      "['track_id', ' type', ' traveled_d', ' avg_speed', ' lat', ' lon', ' speed', ' lon_acc', ' lat_acc', ' time']\n"
     ]
    }
   ],
   "source": [
    "print(lines[0]) # column names\n",
    "print(lines[0].strip('\\n').strip().strip(';').split(';')) # columns names as a list"
   ],
   "metadata": {
    "collapsed": false,
    "ExecuteTime": {
     "end_time": "2024-05-01T03:26:59.360232Z",
     "start_time": "2024-05-01T03:26:59.357404Z"
    }
   },
   "id": "888c8dee344fb8f9",
   "execution_count": 38
  },
  {
   "cell_type": "code",
   "outputs": [
    {
     "data": {
      "text/plain": "853"
     },
     "execution_count": 39,
     "metadata": {},
     "output_type": "execute_result"
    }
   ],
   "source": [
    "lines_as_lists = [line.strip('\\n').strip().strip(';').split(';') for line in lines]\n",
    "len(lines_as_lists)"
   ],
   "metadata": {
    "collapsed": false,
    "ExecuteTime": {
     "end_time": "2024-05-01T03:27:00.275559Z",
     "start_time": "2024-05-01T03:26:59.590921Z"
    }
   },
   "id": "67a0eca958438814",
   "execution_count": 39
  },
  {
   "cell_type": "code",
   "outputs": [
    {
     "name": "stdout",
     "output_type": "stream",
     "text": [
      "the number of fields in row 1 is 3010, row 2 is 10510\n"
     ]
    }
   ],
   "source": [
    "print(f\"the number of fields in row 1 is {len(lines_as_lists[1])}, row 2 is {len(lines_as_lists[2])}\")"
   ],
   "metadata": {
    "collapsed": false,
    "ExecuteTime": {
     "end_time": "2024-05-01T03:27:00.283353Z",
     "start_time": "2024-05-01T03:27:00.277195Z"
    }
   },
   "id": "22b14c52c17c154a",
   "execution_count": 40
  },
  {
   "cell_type": "markdown",
   "source": [
    "The number of fields in each row is = 4 + 6 * n\n",
    "\n",
    "* The first 4 unique values are: track_id; type; traveled_d; avg_speed\n",
    "* The remaining fields are repeated sequences of: \n",
    "  * lat_1; lon_1; speed_1; lon_acc_1; lat_acc_1; time_1\n",
    "  * lat_2; lon_2; speed_2; lon_acc_2; lat_acc_2; time_2\n",
    "  * ...\n",
    "  * lat_n; lon_n; speed_n; lon_acc_n; lat_acc_n; time_n\n",
    "\n",
    "* n depends on the time frequency. It is different for each row.\n"
   ],
   "metadata": {
    "collapsed": false
   },
   "id": "f96b034bdc89bacb"
  },
  {
   "cell_type": "code",
   "outputs": [
    {
     "name": "stdout",
     "output_type": "stream",
     "text": [
      "the maximum number of fields is 98410\n",
      "the largest n = 16401\n"
     ]
    }
   ],
   "source": [
    "no_field_max = 0\n",
    "\n",
    "for row in lines_as_lists:\n",
    "    if len(row) > no_field_max:\n",
    "        no_field_max = len(row)\n",
    "\n",
    "print(f\"the maximum number of fields is {no_field_max}\")\n",
    "largest_n = int((no_field_max-4)/6)\n",
    "print(f\"the largest n = {largest_n}\")"
   ],
   "metadata": {
    "collapsed": false,
    "ExecuteTime": {
     "end_time": "2024-05-01T03:27:00.345767Z",
     "start_time": "2024-05-01T03:27:00.284658Z"
    }
   },
   "id": "65359a29c9666a47",
   "execution_count": 41
  },
  {
   "cell_type": "markdown",
   "source": [
    "We can divide each row into 2 parts:\n",
    "1.  A list of the first 4 values. \n",
    "    - These will correspond to ['track_id', ' type', ' traveled_d', ' avg_speed']\n",
    "2.  A matrix of size 6*n of the remaining values. \n",
    "    - These will correspond to a table with columns [' lat', ' lon', ' speed', ' lon_acc', ' lat_acc', ' time'] and n rows.\n",
    "    - We will append the 'track_id' value to each row to keep track of the vehicle identity."
   ],
   "metadata": {
    "collapsed": false
   },
   "id": "57f1576b4002dbf"
  },
  {
   "cell_type": "code",
   "outputs": [],
   "source": [
    "cols = lines_as_lists.pop(0)"
   ],
   "metadata": {
    "collapsed": false,
    "ExecuteTime": {
     "end_time": "2024-05-01T03:27:00.941279Z",
     "start_time": "2024-05-01T03:27:00.938341Z"
    }
   },
   "id": "a86905b2173c5b5a",
   "execution_count": 42
  },
  {
   "cell_type": "code",
   "outputs": [
    {
     "name": "stdout",
     "output_type": "stream",
     "text": [
      "['track_id', ' type', ' traveled_d', ' avg_speed']\n",
      "['track_id', ' lat', ' lon', ' speed', ' lon_acc', ' lat_acc', ' time']\n"
     ]
    }
   ],
   "source": [
    "track_cols = cols[:4]\n",
    "trajectory_cols = ['track_id'] + cols[4:]\n",
    "\n",
    "print(track_cols)\n",
    "print(trajectory_cols)\n"
   ],
   "metadata": {
    "collapsed": false,
    "ExecuteTime": {
     "end_time": "2024-05-01T03:27:01.392526Z",
     "start_time": "2024-05-01T03:27:01.388424Z"
    }
   },
   "id": "e18cbd1ee00be3d1",
   "execution_count": 43
  },
  {
   "cell_type": "code",
   "outputs": [],
   "source": [
    "track_info = []\n",
    "trajectory_info = []\n",
    "\n",
    "for row in lines_as_lists:\n",
    "    track_id = row[0]\n",
    "\n",
    "    # add the first 4 values to track_info\n",
    "    track_info.append(row[:4]) \n",
    "\n",
    "    remaining_values = row[4:]\n",
    "    # reshape the list into a matrix and add track_id\n",
    "    trajectory_matrix = [ [track_id] + remaining_values[i:i+6] for i in range(0,len(remaining_values),6)]\n",
    "    # add the matrix rows to trajectory_info\n",
    "    trajectory_info = trajectory_info + trajectory_matrix\n"
   ],
   "metadata": {
    "collapsed": false,
    "ExecuteTime": {
     "end_time": "2024-05-01T03:27:25.506562Z",
     "start_time": "2024-05-01T03:27:01.716441Z"
    }
   },
   "id": "a9576391b385c6ff",
   "execution_count": 44
  },
  {
   "cell_type": "code",
   "outputs": [
    {
     "data": {
      "text/plain": "   track_id         type  traveled_d   avg_speed\n0         1          Car      134.88   24.278704\n1         2          Car      426.97   21.958339\n2         3          Car      206.58    8.263246\n3         4          Car      261.45   30.361735\n4         5         Taxi      264.12   16.979263\n..      ...          ...         ...         ...\n95       96          Car       86.51   12.976159\n96       97          Car      212.20   14.042918\n97       98          Car      224.82   11.562238\n98       99   Motorcycle      191.57   24.630498\n99      100          Bus      234.48   22.213442\n\n[100 rows x 4 columns]",
      "text/html": "<div>\n<style scoped>\n    .dataframe tbody tr th:only-of-type {\n        vertical-align: middle;\n    }\n\n    .dataframe tbody tr th {\n        vertical-align: top;\n    }\n\n    .dataframe thead th {\n        text-align: right;\n    }\n</style>\n<table border=\"1\" class=\"dataframe\">\n  <thead>\n    <tr style=\"text-align: right;\">\n      <th></th>\n      <th>track_id</th>\n      <th>type</th>\n      <th>traveled_d</th>\n      <th>avg_speed</th>\n    </tr>\n  </thead>\n  <tbody>\n    <tr>\n      <th>0</th>\n      <td>1</td>\n      <td>Car</td>\n      <td>134.88</td>\n      <td>24.278704</td>\n    </tr>\n    <tr>\n      <th>1</th>\n      <td>2</td>\n      <td>Car</td>\n      <td>426.97</td>\n      <td>21.958339</td>\n    </tr>\n    <tr>\n      <th>2</th>\n      <td>3</td>\n      <td>Car</td>\n      <td>206.58</td>\n      <td>8.263246</td>\n    </tr>\n    <tr>\n      <th>3</th>\n      <td>4</td>\n      <td>Car</td>\n      <td>261.45</td>\n      <td>30.361735</td>\n    </tr>\n    <tr>\n      <th>4</th>\n      <td>5</td>\n      <td>Taxi</td>\n      <td>264.12</td>\n      <td>16.979263</td>\n    </tr>\n    <tr>\n      <th>...</th>\n      <td>...</td>\n      <td>...</td>\n      <td>...</td>\n      <td>...</td>\n    </tr>\n    <tr>\n      <th>95</th>\n      <td>96</td>\n      <td>Car</td>\n      <td>86.51</td>\n      <td>12.976159</td>\n    </tr>\n    <tr>\n      <th>96</th>\n      <td>97</td>\n      <td>Car</td>\n      <td>212.20</td>\n      <td>14.042918</td>\n    </tr>\n    <tr>\n      <th>97</th>\n      <td>98</td>\n      <td>Car</td>\n      <td>224.82</td>\n      <td>11.562238</td>\n    </tr>\n    <tr>\n      <th>98</th>\n      <td>99</td>\n      <td>Motorcycle</td>\n      <td>191.57</td>\n      <td>24.630498</td>\n    </tr>\n    <tr>\n      <th>99</th>\n      <td>100</td>\n      <td>Bus</td>\n      <td>234.48</td>\n      <td>22.213442</td>\n    </tr>\n  </tbody>\n</table>\n<p>100 rows × 4 columns</p>\n</div>"
     },
     "execution_count": 45,
     "metadata": {},
     "output_type": "execute_result"
    }
   ],
   "source": [
    "df_track = pd.DataFrame(data= track_info,columns=track_cols)\n",
    "\n",
    "df_track.head(100)"
   ],
   "metadata": {
    "collapsed": false,
    "ExecuteTime": {
     "end_time": "2024-05-01T03:27:25.534513Z",
     "start_time": "2024-05-01T03:27:25.507617Z"
    }
   },
   "id": "d486121b0323b4e6",
   "execution_count": 45
  },
  {
   "cell_type": "code",
   "outputs": [
    {
     "data": {
      "text/plain": "   track_id         lat         lon     speed   lon_acc   lat_acc        time\n0         1   37.979513   23.736025   35.3204   -0.2996   -0.0175   14.000000\n1         1   37.979510   23.736027   35.2990   -0.2788   -0.0188   14.040000\n2         1   37.979508   23.736030   35.2800   -0.2656   -0.0200   14.080000\n3         1   37.979505   23.736032   35.2624   -0.2589   -0.0213   14.120000\n4         1   37.979502   23.736035   35.2460   -0.2460   -0.0225   14.160000\n..      ...         ...         ...       ...       ...       ...         ...\n95        1   37.979214   23.736284   39.7003   -0.8160    0.1721   17.800000\n96        1   37.979210   23.736287   39.5834   -0.8087    0.1764   17.840000\n97        1   37.979207   23.736290   39.4686   -0.7858    0.1806   17.880000\n98        1   37.979204   23.736293   39.3582   -0.7474    0.1846   17.920000\n99        1   37.979201   23.736296   39.2522   -0.7246    0.1884   17.960000\n\n[100 rows x 7 columns]",
      "text/html": "<div>\n<style scoped>\n    .dataframe tbody tr th:only-of-type {\n        vertical-align: middle;\n    }\n\n    .dataframe tbody tr th {\n        vertical-align: top;\n    }\n\n    .dataframe thead th {\n        text-align: right;\n    }\n</style>\n<table border=\"1\" class=\"dataframe\">\n  <thead>\n    <tr style=\"text-align: right;\">\n      <th></th>\n      <th>track_id</th>\n      <th>lat</th>\n      <th>lon</th>\n      <th>speed</th>\n      <th>lon_acc</th>\n      <th>lat_acc</th>\n      <th>time</th>\n    </tr>\n  </thead>\n  <tbody>\n    <tr>\n      <th>0</th>\n      <td>1</td>\n      <td>37.979513</td>\n      <td>23.736025</td>\n      <td>35.3204</td>\n      <td>-0.2996</td>\n      <td>-0.0175</td>\n      <td>14.000000</td>\n    </tr>\n    <tr>\n      <th>1</th>\n      <td>1</td>\n      <td>37.979510</td>\n      <td>23.736027</td>\n      <td>35.2990</td>\n      <td>-0.2788</td>\n      <td>-0.0188</td>\n      <td>14.040000</td>\n    </tr>\n    <tr>\n      <th>2</th>\n      <td>1</td>\n      <td>37.979508</td>\n      <td>23.736030</td>\n      <td>35.2800</td>\n      <td>-0.2656</td>\n      <td>-0.0200</td>\n      <td>14.080000</td>\n    </tr>\n    <tr>\n      <th>3</th>\n      <td>1</td>\n      <td>37.979505</td>\n      <td>23.736032</td>\n      <td>35.2624</td>\n      <td>-0.2589</td>\n      <td>-0.0213</td>\n      <td>14.120000</td>\n    </tr>\n    <tr>\n      <th>4</th>\n      <td>1</td>\n      <td>37.979502</td>\n      <td>23.736035</td>\n      <td>35.2460</td>\n      <td>-0.2460</td>\n      <td>-0.0225</td>\n      <td>14.160000</td>\n    </tr>\n    <tr>\n      <th>...</th>\n      <td>...</td>\n      <td>...</td>\n      <td>...</td>\n      <td>...</td>\n      <td>...</td>\n      <td>...</td>\n      <td>...</td>\n    </tr>\n    <tr>\n      <th>95</th>\n      <td>1</td>\n      <td>37.979214</td>\n      <td>23.736284</td>\n      <td>39.7003</td>\n      <td>-0.8160</td>\n      <td>0.1721</td>\n      <td>17.800000</td>\n    </tr>\n    <tr>\n      <th>96</th>\n      <td>1</td>\n      <td>37.979210</td>\n      <td>23.736287</td>\n      <td>39.5834</td>\n      <td>-0.8087</td>\n      <td>0.1764</td>\n      <td>17.840000</td>\n    </tr>\n    <tr>\n      <th>97</th>\n      <td>1</td>\n      <td>37.979207</td>\n      <td>23.736290</td>\n      <td>39.4686</td>\n      <td>-0.7858</td>\n      <td>0.1806</td>\n      <td>17.880000</td>\n    </tr>\n    <tr>\n      <th>98</th>\n      <td>1</td>\n      <td>37.979204</td>\n      <td>23.736293</td>\n      <td>39.3582</td>\n      <td>-0.7474</td>\n      <td>0.1846</td>\n      <td>17.920000</td>\n    </tr>\n    <tr>\n      <th>99</th>\n      <td>1</td>\n      <td>37.979201</td>\n      <td>23.736296</td>\n      <td>39.2522</td>\n      <td>-0.7246</td>\n      <td>0.1884</td>\n      <td>17.960000</td>\n    </tr>\n  </tbody>\n</table>\n<p>100 rows × 7 columns</p>\n</div>"
     },
     "execution_count": 46,
     "metadata": {},
     "output_type": "execute_result"
    }
   ],
   "source": [
    "df_trajectory = pd.DataFrame(data= trajectory_info,columns=trajectory_cols)\n",
    "\n",
    "df_trajectory.head(100)"
   ],
   "metadata": {
    "collapsed": false,
    "ExecuteTime": {
     "end_time": "2024-05-01T03:27:26.322971Z",
     "start_time": "2024-05-01T03:27:25.535291Z"
    }
   },
   "id": "4b904f367d3658ba",
   "execution_count": 46
  },
  {
   "cell_type": "markdown",
   "source": [
    "### Strip the whitespaces from the column names"
   ],
   "metadata": {
    "collapsed": false
   },
   "id": "63388d8dbc7a36a2"
  },
  {
   "cell_type": "code",
   "outputs": [],
   "source": [
    "df_trajectory.columns = df_trajectory.columns.str.strip()\n",
    "df_track.columns = df_track.columns.str.strip()"
   ],
   "metadata": {
    "collapsed": false,
    "ExecuteTime": {
     "end_time": "2024-05-01T03:27:26.330557Z",
     "start_time": "2024-05-01T03:27:26.326520Z"
    }
   },
   "id": "227d523615f91915",
   "execution_count": 47
  },
  {
   "cell_type": "code",
   "outputs": [],
   "source": [
    "# Define a dictionary with the correct data types for each column\n",
    "column_types = {\n",
    "    'track_id': 'int64',\n",
    "    'lat': 'float64',\n",
    "    'lon': 'float64',\n",
    "    'speed': 'float64',\n",
    "    'lon_acc': 'float64',\n",
    "    'lat_acc': 'float64',\n",
    "    'time': 'float64'\n",
    "}\n",
    "\n",
    "# Convert the data types of the DataFrame columns\n",
    "df_trajectory = df_trajectory.astype(column_types)"
   ],
   "metadata": {
    "collapsed": false,
    "ExecuteTime": {
     "end_time": "2024-05-01T03:27:28.104231Z",
     "start_time": "2024-05-01T03:27:26.332409Z"
    }
   },
   "id": "7539d42167792e7",
   "execution_count": 48
  },
  {
   "cell_type": "code",
   "outputs": [
    {
     "name": "stdout",
     "output_type": "stream",
     "text": [
      "Index(['track_id', 'lat', 'lon', 'speed', 'lon_acc', 'lat_acc', 'time'], dtype='object')\n"
     ]
    }
   ],
   "source": [
    "print(df_trajectory.columns)\n"
   ],
   "metadata": {
    "collapsed": false,
    "ExecuteTime": {
     "end_time": "2024-05-01T03:27:28.108790Z",
     "start_time": "2024-05-01T03:27:28.105324Z"
    }
   },
   "id": "7047234082e85000",
   "execution_count": 49
  },
  {
   "cell_type": "code",
   "outputs": [
    {
     "data": {
      "text/plain": "track_id      int64\nlat         float64\nlon         float64\nspeed       float64\nlon_acc     float64\nlat_acc     float64\ntime        float64\ndtype: object"
     },
     "execution_count": 50,
     "metadata": {},
     "output_type": "execute_result"
    }
   ],
   "source": [
    "df_trajectory.dtypes"
   ],
   "metadata": {
    "collapsed": false,
    "ExecuteTime": {
     "end_time": "2024-05-01T03:27:35.609506Z",
     "start_time": "2024-05-01T03:27:35.604417Z"
    }
   },
   "id": "f690813761c51edc",
   "execution_count": 50
  }
 ],
 "metadata": {
  "kernelspec": {
   "display_name": "Python 3",
   "language": "python",
   "name": "python3"
  },
  "language_info": {
   "codemirror_mode": {
    "name": "ipython",
    "version": 2
   },
   "file_extension": ".py",
   "mimetype": "text/x-python",
   "name": "python",
   "nbconvert_exporter": "python",
   "pygments_lexer": "ipython2",
   "version": "2.7.6"
  }
 },
 "nbformat": 4,
 "nbformat_minor": 5
}
